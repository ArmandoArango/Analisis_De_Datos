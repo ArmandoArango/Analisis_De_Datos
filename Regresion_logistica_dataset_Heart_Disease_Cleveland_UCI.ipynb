{
 "cells": [
  {
   "cell_type": "code",
   "execution_count": 1,
   "id": "60e2867d-4e34-404a-a4e7-ef04eedbce7a",
   "metadata": {},
   "outputs": [
    {
     "data": {
      "text/plain": [
       "'\\nDataset Regresión Logística – Heart Disease Cleveland UCI:\\nhttps://www.kaggle.com/datasets/cherngs/heart-diseasecleveland-uci\\nContiene información de pacientes como edad, sexo, presión\\nsanguínea, colesterol, etc. la variable objetivo es la presencia\\nde enfermedad cardíaca.\\n'"
      ]
     },
     "execution_count": 1,
     "metadata": {},
     "output_type": "execute_result"
    }
   ],
   "source": [
    "\"\"\"\n",
    "Dataset Regresión Logística – Heart Disease Cleveland UCI:\n",
    "https://www.kaggle.com/datasets/cherngs/heart-diseasecleveland-uci\n",
    "Contiene información de pacientes como edad, sexo, presión\n",
    "sanguínea, colesterol, etc. la variable objetivo es la presencia\n",
    "de enfermedad cardíaca.\n",
    "\"\"\"\n"
   ]
  },
  {
   "cell_type": "code",
   "execution_count": 8,
   "id": "738d66c3-b554-41b1-b684-bab32c0fc861",
   "metadata": {},
   "outputs": [
    {
     "data": {
      "text/html": [
       "<div>\n",
       "<style scoped>\n",
       "    .dataframe tbody tr th:only-of-type {\n",
       "        vertical-align: middle;\n",
       "    }\n",
       "\n",
       "    .dataframe tbody tr th {\n",
       "        vertical-align: top;\n",
       "    }\n",
       "\n",
       "    .dataframe thead th {\n",
       "        text-align: right;\n",
       "    }\n",
       "</style>\n",
       "<table border=\"1\" class=\"dataframe\">\n",
       "  <thead>\n",
       "    <tr style=\"text-align: right;\">\n",
       "      <th></th>\n",
       "      <th>Edad</th>\n",
       "      <th>Sexo</th>\n",
       "      <th>cp</th>\n",
       "      <th>presion_arterial_reposo</th>\n",
       "      <th>colesterol</th>\n",
       "      <th>glucemia_ayunas</th>\n",
       "      <th>electrocardiograficos_reposo</th>\n",
       "      <th>frecuencia_cardiaca</th>\n",
       "      <th>exang</th>\n",
       "      <th>depresion_ST</th>\n",
       "      <th>slope</th>\n",
       "      <th>ca</th>\n",
       "      <th>thal</th>\n",
       "      <th>enfermedad</th>\n",
       "    </tr>\n",
       "  </thead>\n",
       "  <tbody>\n",
       "    <tr>\n",
       "      <th>count</th>\n",
       "      <td>297.000000</td>\n",
       "      <td>297.000000</td>\n",
       "      <td>297.000000</td>\n",
       "      <td>297.000000</td>\n",
       "      <td>297.000000</td>\n",
       "      <td>297.000000</td>\n",
       "      <td>297.000000</td>\n",
       "      <td>297.000000</td>\n",
       "      <td>297.000000</td>\n",
       "      <td>297.000000</td>\n",
       "      <td>297.000000</td>\n",
       "      <td>297.000000</td>\n",
       "      <td>297.000000</td>\n",
       "      <td>297.000000</td>\n",
       "    </tr>\n",
       "    <tr>\n",
       "      <th>mean</th>\n",
       "      <td>54.542088</td>\n",
       "      <td>0.676768</td>\n",
       "      <td>2.158249</td>\n",
       "      <td>131.693603</td>\n",
       "      <td>247.350168</td>\n",
       "      <td>0.144781</td>\n",
       "      <td>0.996633</td>\n",
       "      <td>149.599327</td>\n",
       "      <td>0.326599</td>\n",
       "      <td>1.055556</td>\n",
       "      <td>0.602694</td>\n",
       "      <td>0.676768</td>\n",
       "      <td>0.835017</td>\n",
       "      <td>0.461279</td>\n",
       "    </tr>\n",
       "    <tr>\n",
       "      <th>std</th>\n",
       "      <td>9.049736</td>\n",
       "      <td>0.468500</td>\n",
       "      <td>0.964859</td>\n",
       "      <td>17.762806</td>\n",
       "      <td>51.997583</td>\n",
       "      <td>0.352474</td>\n",
       "      <td>0.994914</td>\n",
       "      <td>22.941562</td>\n",
       "      <td>0.469761</td>\n",
       "      <td>1.166123</td>\n",
       "      <td>0.618187</td>\n",
       "      <td>0.938965</td>\n",
       "      <td>0.956690</td>\n",
       "      <td>0.499340</td>\n",
       "    </tr>\n",
       "    <tr>\n",
       "      <th>min</th>\n",
       "      <td>29.000000</td>\n",
       "      <td>0.000000</td>\n",
       "      <td>0.000000</td>\n",
       "      <td>94.000000</td>\n",
       "      <td>126.000000</td>\n",
       "      <td>0.000000</td>\n",
       "      <td>0.000000</td>\n",
       "      <td>71.000000</td>\n",
       "      <td>0.000000</td>\n",
       "      <td>0.000000</td>\n",
       "      <td>0.000000</td>\n",
       "      <td>0.000000</td>\n",
       "      <td>0.000000</td>\n",
       "      <td>0.000000</td>\n",
       "    </tr>\n",
       "    <tr>\n",
       "      <th>25%</th>\n",
       "      <td>48.000000</td>\n",
       "      <td>0.000000</td>\n",
       "      <td>2.000000</td>\n",
       "      <td>120.000000</td>\n",
       "      <td>211.000000</td>\n",
       "      <td>0.000000</td>\n",
       "      <td>0.000000</td>\n",
       "      <td>133.000000</td>\n",
       "      <td>0.000000</td>\n",
       "      <td>0.000000</td>\n",
       "      <td>0.000000</td>\n",
       "      <td>0.000000</td>\n",
       "      <td>0.000000</td>\n",
       "      <td>0.000000</td>\n",
       "    </tr>\n",
       "    <tr>\n",
       "      <th>50%</th>\n",
       "      <td>56.000000</td>\n",
       "      <td>1.000000</td>\n",
       "      <td>2.000000</td>\n",
       "      <td>130.000000</td>\n",
       "      <td>243.000000</td>\n",
       "      <td>0.000000</td>\n",
       "      <td>1.000000</td>\n",
       "      <td>153.000000</td>\n",
       "      <td>0.000000</td>\n",
       "      <td>0.800000</td>\n",
       "      <td>1.000000</td>\n",
       "      <td>0.000000</td>\n",
       "      <td>0.000000</td>\n",
       "      <td>0.000000</td>\n",
       "    </tr>\n",
       "    <tr>\n",
       "      <th>75%</th>\n",
       "      <td>61.000000</td>\n",
       "      <td>1.000000</td>\n",
       "      <td>3.000000</td>\n",
       "      <td>140.000000</td>\n",
       "      <td>276.000000</td>\n",
       "      <td>0.000000</td>\n",
       "      <td>2.000000</td>\n",
       "      <td>166.000000</td>\n",
       "      <td>1.000000</td>\n",
       "      <td>1.600000</td>\n",
       "      <td>1.000000</td>\n",
       "      <td>1.000000</td>\n",
       "      <td>2.000000</td>\n",
       "      <td>1.000000</td>\n",
       "    </tr>\n",
       "    <tr>\n",
       "      <th>max</th>\n",
       "      <td>77.000000</td>\n",
       "      <td>1.000000</td>\n",
       "      <td>3.000000</td>\n",
       "      <td>200.000000</td>\n",
       "      <td>564.000000</td>\n",
       "      <td>1.000000</td>\n",
       "      <td>2.000000</td>\n",
       "      <td>202.000000</td>\n",
       "      <td>1.000000</td>\n",
       "      <td>6.200000</td>\n",
       "      <td>2.000000</td>\n",
       "      <td>3.000000</td>\n",
       "      <td>2.000000</td>\n",
       "      <td>1.000000</td>\n",
       "    </tr>\n",
       "  </tbody>\n",
       "</table>\n",
       "</div>"
      ],
      "text/plain": [
       "             Edad        Sexo          cp  presion_arterial_reposo  \\\n",
       "count  297.000000  297.000000  297.000000               297.000000   \n",
       "mean    54.542088    0.676768    2.158249               131.693603   \n",
       "std      9.049736    0.468500    0.964859                17.762806   \n",
       "min     29.000000    0.000000    0.000000                94.000000   \n",
       "25%     48.000000    0.000000    2.000000               120.000000   \n",
       "50%     56.000000    1.000000    2.000000               130.000000   \n",
       "75%     61.000000    1.000000    3.000000               140.000000   \n",
       "max     77.000000    1.000000    3.000000               200.000000   \n",
       "\n",
       "       colesterol  glucemia_ayunas  electrocardiograficos_reposo  \\\n",
       "count  297.000000       297.000000                    297.000000   \n",
       "mean   247.350168         0.144781                      0.996633   \n",
       "std     51.997583         0.352474                      0.994914   \n",
       "min    126.000000         0.000000                      0.000000   \n",
       "25%    211.000000         0.000000                      0.000000   \n",
       "50%    243.000000         0.000000                      1.000000   \n",
       "75%    276.000000         0.000000                      2.000000   \n",
       "max    564.000000         1.000000                      2.000000   \n",
       "\n",
       "       frecuencia_cardiaca       exang  depresion_ST       slope          ca  \\\n",
       "count           297.000000  297.000000    297.000000  297.000000  297.000000   \n",
       "mean            149.599327    0.326599      1.055556    0.602694    0.676768   \n",
       "std              22.941562    0.469761      1.166123    0.618187    0.938965   \n",
       "min              71.000000    0.000000      0.000000    0.000000    0.000000   \n",
       "25%             133.000000    0.000000      0.000000    0.000000    0.000000   \n",
       "50%             153.000000    0.000000      0.800000    1.000000    0.000000   \n",
       "75%             166.000000    1.000000      1.600000    1.000000    1.000000   \n",
       "max             202.000000    1.000000      6.200000    2.000000    3.000000   \n",
       "\n",
       "             thal  enfermedad  \n",
       "count  297.000000  297.000000  \n",
       "mean     0.835017    0.461279  \n",
       "std      0.956690    0.499340  \n",
       "min      0.000000    0.000000  \n",
       "25%      0.000000    0.000000  \n",
       "50%      0.000000    0.000000  \n",
       "75%      2.000000    1.000000  \n",
       "max      2.000000    1.000000  "
      ]
     },
     "execution_count": 8,
     "metadata": {},
     "output_type": "execute_result"
    }
   ],
   "source": [
    "\"\"\"\n",
    "1. Realizar un análisis exploratorio de los datos para identificar relaciones entre variables, valores atípicos, tendencias, etc.\n",
    "\"\"\"\n",
    "#importamos libreriras\n",
    "\n",
    "import pandas as pd # manejo de analisis estrucuras de datos\n",
    "import numpy as np # calculos numericos y analisis de datos\n",
    "import seaborn as sns # crea graficas estadisticas\n",
    "import matplotlib.pyplot as plt #crea graficas en dos dimensiones\n",
    "\n",
    "# Librerías de para implementar modelos de ciencia de datos\n",
    "from sklearn import metrics\n",
    "from sklearn.model_selection import train_test_split\n",
    "from sklearn.linear_model import LogisticRegression\n",
    "from sklearn.metrics import classification_report, confusion_matrix\n",
    "\n",
    "#leemos el dataset\n",
    "Dataset = pd.read_csv(\"./heart_cleveland_upload.csv\")\n",
    "Dataset.describe()"
   ]
  },
  {
   "cell_type": "code",
   "execution_count": 9,
   "id": "deda60ed-c47d-48e5-9532-958ad5b10501",
   "metadata": {},
   "outputs": [
    {
     "name": "stdout",
     "output_type": "stream",
     "text": [
      "Cantidad de Registros con cero en Edad:  0\n",
      "Cantidad de Registros con cero en presion_arterial_reposo:  0\n",
      "Cantidad de Registros con cero en colesterol:  0\n",
      "Cantidad de Registros con cero en frecuencia_cardiaca:  0\n"
     ]
    }
   ],
   "source": [
    "\"\"\"\n",
    "2. Preprocesar los datos limpiándolos, tratando valores faltantes y transformándolos según sea necesario. \n",
    "\"\"\"\n",
    "#datos en 0\n",
    "print(\"Cantidad de Registros con cero en Edad: \",Dataset['Edad'].isin([0]).sum())\n",
    "print(\"Cantidad de Registros con cero en presion_arterial_reposo: \",Dataset['presion_arterial_reposo'].isin([0]).sum())\n",
    "print(\"Cantidad de Registros con cero en colesterol: \",Dataset['colesterol'].isin([0]).sum())\n",
    "print(\"Cantidad de Registros con cero en frecuencia_cardiaca: \",Dataset['frecuencia_cardiaca'].isin([0]).sum())"
   ]
  },
  {
   "cell_type": "code",
   "execution_count": 10,
   "id": "e9ad2b38-8da5-465d-b20b-f013d7619249",
   "metadata": {},
   "outputs": [
    {
     "data": {
      "text/plain": [
       "Text(0.5, 1.0, 'Identificacion de Datos')"
      ]
     },
     "execution_count": 10,
     "metadata": {},
     "output_type": "execute_result"
    },
    {
     "data": {
      "image/png": "[encoded data removed]",
      "text/plain": [
       "<Figure size 600x300 with 1 Axes>"
      ]
     },
     "metadata": {},
     "output_type": "display_data"
    },
    {
     "data": {
      "image/png": "[encoded data removed]",
      "text/plain": [
       "<Figure size 600x300 with 1 Axes>"
      ]
     },
     "metadata": {},
     "output_type": "display_data"
    },
    {
     "data": {
      "image/png": "[encoded data removed]",
      "text/plain": [
       "<Figure size 600x300 with 1 Axes>"
      ]
     },
     "metadata": {},
     "output_type": "display_data"
    },
    {
     "data": {
      "image/png": "[encoded data removed]",
      "text/plain": [
       "<Figure size 600x300 with 1 Axes>"
      ]
     },
     "metadata": {},
     "output_type": "display_data"
    }
   ],
   "source": [
    "#revisar datos atipicos\n",
    "plt.figure(figsize=(6, 3))\n",
    "sns.boxplot(x=Dataset['Edad'])\n",
    "plt.title('Identificacion de Datos', fontsize=10)\n",
    "\n",
    "plt.figure(figsize=(6, 3))\n",
    "sns.boxplot(x=Dataset['presion_arterial_reposo'])\n",
    "plt.title('Identificacion de Datos', fontsize=10)\n",
    "\n",
    "plt.figure(figsize=(6, 3))\n",
    "sns.boxplot(x=Dataset['colesterol'])\n",
    "plt.title('Identificacion de Datos', fontsize=10)\n",
    "\n",
    "plt.figure(figsize=(6, 3))\n",
    "sns.boxplot(x=Dataset['frecuencia_cardiaca'])\n",
    "plt.title('Identificacion de Datos', fontsize=10)"
   ]
  },
  {
   "cell_type": "code",
   "execution_count": 11,
   "id": "5331779e-7409-441e-a32a-9937749eae10",
   "metadata": {},
   "outputs": [
    {
     "name": "stdout",
     "output_type": "stream",
     "text": [
      "El total de datos atipicos de presion_arterial_reposo 15\n",
      "El total de datos atipicos de colesterol 0\n",
      "El total de datos atipicos de frecuencia_cardiaca 2\n"
     ]
    }
   ],
   "source": [
    "nivel_minimo=40\n",
    "nivel_maximo=160\n",
    "Total_Atipicos=((Dataset['presion_arterial_reposo']<nivel_minimo) | (Dataset['presion_arterial_reposo']>nivel_maximo)).sum()\n",
    "print(\"El total de datos atipicos de presion_arterial_reposo {}\".format(Total_Atipicos))\n",
    "\n",
    "nivel_minimo=0\n",
    "nivel_maximo=400\n",
    "Total_Atipicos=((Dataset['colesterol']<nivel_minimo) | (Dataset['presion_arterial_reposo']>nivel_maximo)).sum()\n",
    "print(\"El total de datos atipicos de colesterol {}\".format(Total_Atipicos))\n",
    "\n",
    "\n",
    "nivel_minimo=0\n",
    "nivel_maximo=180\n",
    "Total_Atipicos=((Dataset['frecuencia_cardiaca']<nivel_minimo) | (Dataset['presion_arterial_reposo']>nivel_maximo)).sum()\n",
    "print(\"El total de datos atipicos de frecuencia_cardiaca {}\".format(Total_Atipicos))\n",
    "\n"
   ]
  },
  {
   "cell_type": "code",
   "execution_count": 12,
   "id": "2a58e486-cc37-46ce-bef1-65f489f7d122",
   "metadata": {},
   "outputs": [],
   "source": [
    "#filtramos datos atipicos par cambiarlos.\n",
    "nivel_minimo=40\n",
    "nivel_maximo=160\n",
    "Dataset=Dataset[(Dataset['presion_arterial_reposo']<nivel_maximo)&(Dataset['presion_arterial_reposo']>nivel_minimo)]\n"
   ]
  },
  {
   "cell_type": "code",
   "execution_count": 15,
   "id": "fc908a2c-4140-400b-beec-d9b808389f74",
   "metadata": {},
   "outputs": [
    {
     "name": "stdout",
     "output_type": "stream",
     "text": [
      "El total de datos atipicos de presion_arterial_reposo 0\n"
     ]
    }
   ],
   "source": [
    "#verificamos los datos atipicos\n",
    "nivel_minimo=40\n",
    "nivel_maximo=160\n",
    "Total_Atipicos=((Dataset['presion_arterial_reposo']<nivel_minimo) | (Dataset['presion_arterial_reposo']>nivel_maximo)).sum()\n",
    "print(\"El total de datos atipicos de presion_arterial_reposo {}\".format(Total_Atipicos))\n"
   ]
  },
  {
   "cell_type": "code",
   "execution_count": 16,
   "id": "5fae7cbf-fd9f-4d69-a71d-e0cdd6338309",
   "metadata": {},
   "outputs": [],
   "source": [
    "#filtramos datos atipicos par cambiarlos.\n",
    "nivel_minimo=0\n",
    "nivel_maximo=180\n",
    "Dataset=Dataset[(Dataset['frecuencia_cardiaca']<nivel_maximo)&(Dataset['frecuencia_cardiaca']>nivel_minimo)]\n"
   ]
  },
  {
   "cell_type": "code",
   "execution_count": 17,
   "id": "17ce9be0-5a12-4562-a6e9-22151ed94842",
   "metadata": {},
   "outputs": [
    {
     "name": "stdout",
     "output_type": "stream",
     "text": [
      "El total de datos atipicos de frecuencia_cardiaca 0\n"
     ]
    }
   ],
   "source": [
    "nivel_minimo=0\n",
    "nivel_maximo=180\n",
    "Total_Atipicos=((Dataset['frecuencia_cardiaca']<nivel_minimo) | (Dataset['presion_arterial_reposo']>nivel_maximo)).sum()\n",
    "print(\"El total de datos atipicos de frecuencia_cardiaca {}\".format(Total_Atipicos))"
   ]
  },
  {
   "cell_type": "code",
   "execution_count": 18,
   "id": "22984a06-566e-4483-82c7-cd7cf27379ea",
   "metadata": {},
   "outputs": [
    {
     "name": "stdout",
     "output_type": "stream",
     "text": [
      "<class 'pandas.core.frame.DataFrame'>\n",
      "Index: 252 entries, 1 to 296\n",
      "Data columns (total 14 columns):\n",
      " #   Column                        Non-Null Count  Dtype  \n",
      "---  ------                        --------------  -----  \n",
      " 0   Edad                          252 non-null    int64  \n",
      " 1   Sexo                          252 non-null    int64  \n",
      " 2   cp                            252 non-null    int64  \n",
      " 3   presion_arterial_reposo       252 non-null    int64  \n",
      " 4   colesterol                    252 non-null    int64  \n",
      " 5   glucemia_ayunas               252 non-null    int64  \n",
      " 6   electrocardiograficos_reposo  252 non-null    int64  \n",
      " 7   frecuencia_cardiaca           252 non-null    int64  \n",
      " 8   exang                         252 non-null    int64  \n",
      " 9   depresion_ST                  252 non-null    float64\n",
      " 10  slope                         252 non-null    int64  \n",
      " 11  ca                            252 non-null    int64  \n",
      " 12  thal                          252 non-null    int64  \n",
      " 13  enfermedad                    252 non-null    int64  \n",
      "dtypes: float64(1), int64(13)\n",
      "memory usage: 29.5 KB\n"
     ]
    }
   ],
   "source": [
    "Dataset.info()"
   ]
  },
  {
   "cell_type": "code",
   "execution_count": 20,
   "id": "c09555e0-a112-459a-801f-fb90f738d9f6",
   "metadata": {},
   "outputs": [
    {
     "data": {
      "text/plain": [
       "enfermedad\n",
       "0    134\n",
       "1    118\n",
       "Name: count, dtype: int64"
      ]
     },
     "execution_count": 20,
     "metadata": {},
     "output_type": "execute_result"
    }
   ],
   "source": [
    "\"\"\"\n",
    "3. Seleccionar las características más relevantes para entrenar el modelo utilizando selección de características.\n",
    "\"\"\"\n",
    "#total de personas con problemas cardiacos\n",
    "Dataset[\"enfermedad\"].value_counts()\n",
    "\n"
   ]
  },
  {
   "cell_type": "code",
   "execution_count": 22,
   "id": "863483be-70ea-41da-bfd7-f2d2b8038fe9",
   "metadata": {},
   "outputs": [],
   "source": [
    "\"\"\"\n",
    "4. Dividir el dataset en Train y Test para evaluar correctamente el\n",
    "modelo.\n",
    "\"\"\"\n",
    "#porcetaje de train 75%, porcentaje test 25%\n",
    "X = Dataset.drop(\"enfermedad\",axis=1) # Se cargan Los datos de train sin los datos de la columna enfermedad\n",
    "Y = Dataset[\"enfermedad\"] # Se cargan los datos de train con Los datos de La columna enfermedad\n",
    "\n",
    "#La función train_test_split crea una división de un conjunto de datos en dos bloques uno de entrenamiento y otro de prueba (train and test)\n",
    "X_train, X_test, Y_train, Y_test = train_test_split(X, Y, test_size=0.25, stratify=Y, random_state= 0)"
   ]
  },
  {
   "cell_type": "code",
   "execution_count": 25,
   "id": "60d8c64c-2ff2-4519-a6bf-f03198b5d107",
   "metadata": {},
   "outputs": [
    {
     "name": "stdout",
     "output_type": "stream",
     "text": [
      "     Edad  Sexo  cp  presion_arterial_reposo  colesterol  glucemia_ayunas  \\\n",
      "279    44     1   3                      120         169                0   \n",
      "281    44     1   3                      110         197                0   \n",
      "119    51     1   2                      125         245                1   \n",
      "213    58     1   3                      114         318                0   \n",
      "83     65     0   2                      140         417                1   \n",
      "..    ...   ...  ..                      ...         ...              ...   \n",
      "141    44     1   2                      120         226                0   \n",
      "264    50     1   3                      144         200                0   \n",
      "127    50     1   2                      129         196                0   \n",
      "191    62     0   3                      124         209                0   \n",
      "50     49     0   1                      134         271                0   \n",
      "\n",
      "     electrocardiograficos_reposo  frecuencia_cardiaca  exang  depresion_ST  \\\n",
      "279                             0                  144      1           2.8   \n",
      "281                             2                  177      0           0.0   \n",
      "119                             2                  166      0           2.4   \n",
      "213                             1                  140      0           4.4   \n",
      "83                              2                  157      0           0.8   \n",
      "..                            ...                  ...    ...           ...   \n",
      "141                             0                  169      0           0.0   \n",
      "264                             2                  126      1           0.9   \n",
      "127                             0                  163      0           0.0   \n",
      "191                             0                  163      0           0.0   \n",
      "50                              0                  162      0           0.0   \n",
      "\n",
      "     slope  ca  thal  \n",
      "279      2   0     1  \n",
      "281      0   1     0  \n",
      "119      1   0     0  \n",
      "213      2   3     1  \n",
      "83       0   1     0  \n",
      "..     ...  ..   ...  \n",
      "141      0   0     0  \n",
      "264      1   0     2  \n",
      "127      0   0     0  \n",
      "191      0   0     0  \n",
      "50       1   0     0  \n",
      "\n",
      "[189 rows x 13 columns]\n"
     ]
    }
   ],
   "source": [
    "print(X_train)"
   ]
  },
  {
   "cell_type": "code",
   "execution_count": 24,
   "id": "c40d8195-8363-4566-b6a1-f04dcb52f196",
   "metadata": {},
   "outputs": [
    {
     "name": "stdout",
     "output_type": "stream",
     "text": [
      "279    1\n",
      "281    1\n",
      "119    0\n",
      "213    1\n",
      "83     0\n",
      "      ..\n",
      "141    0\n",
      "264    1\n",
      "127    0\n",
      "191    0\n",
      "50     0\n",
      "Name: enfermedad, Length: 189, dtype: int64\n"
     ]
    }
   ],
   "source": [
    "print(Y_train)"
   ]
  },
  {
   "cell_type": "code",
   "execution_count": 30,
   "id": "0cd6e924-7576-4147-a16a-80036b2f50b1",
   "metadata": {},
   "outputs": [],
   "source": [
    "\"\"\"\n",
    "5. Entrenar el modelo configurando los diferentes hiperparámetros\n",
    "\"\"\"\n",
    "\n",
    "modelo_regresion = LogisticRegression(solver = \"liblinear\") # Liblinear es una libreria para resolver problemas lineales de clasificacion y regresion\n",
    "modelo_regresion.fit (X_train , Y_train)\n",
    "\n",
    "# Crea el modelo de prediccion\n",
    "Prediccion = modelo_regresion.predict(X_test) # La funcion predict predice los valores a partir del conjunto de datos de validación"
   ]
  },
  {
   "cell_type": "code",
   "execution_count": 27,
   "id": "016de24c-4227-4468-b131-c96f2a9ed511",
   "metadata": {},
   "outputs": [
    {
     "name": "stdout",
     "output_type": "stream",
     "text": [
      "279    1\n",
      "281    1\n",
      "119    0\n",
      "213    1\n",
      "83     0\n",
      "      ..\n",
      "141    0\n",
      "264    1\n",
      "127    0\n",
      "191    0\n",
      "50     0\n",
      "Name: enfermedad, Length: 189, dtype: int64\n"
     ]
    }
   ],
   "source": [
    "print(Y_train)"
   ]
  },
  {
   "cell_type": "code",
   "execution_count": 31,
   "id": "4038747b-0dd9-43e2-a6cd-7bb910d37388",
   "metadata": {},
   "outputs": [
    {
     "name": "stdout",
     "output_type": "stream",
     "text": [
      "[1 1 0 0 0 1 1 0 1 0 1 0 1 0 1 0 0 0 0 1 1 1 1 0 1 1 0 1 0 0 0 0 1 0 0 1 0\n",
      " 0 1 0 0 0 1 1 0 0 0 1 0 1 0 0 0 1 0 0 0 1 1 0 1 0 0]\n"
     ]
    }
   ],
   "source": [
    "print(Prediccion)"
   ]
  },
  {
   "cell_type": "code",
   "execution_count": 32,
   "id": "78ad8dca-77d9-47b7-83e1-00e1f79cf850",
   "metadata": {},
   "outputs": [
    {
     "name": "stdout",
     "output_type": "stream",
     "text": [
      "              precision    recall  f1-score   support\n",
      "\n",
      "           0       0.81      0.88      0.85        34\n",
      "           1       0.85      0.76      0.80        29\n",
      "\n",
      "    accuracy                           0.83        63\n",
      "   macro avg       0.83      0.82      0.82        63\n",
      "weighted avg       0.83      0.83      0.82        63\n",
      "\n"
     ]
    }
   ],
   "source": [
    "\"\"\"\n",
    "6. Evaluar el desempeño del modelo en el conjunto de Test con métricas como precisión, recall, F1-score, etc.\n",
    "\"\"\"\n",
    "print(classification_report(Y_test, Prediccion))"
   ]
  },
  {
   "cell_type": "code",
   "execution_count": 33,
   "id": "ffa67f6a-f85d-43a4-8d74-65f6943d2f18",
   "metadata": {},
   "outputs": [
    {
     "data": {
      "text/plain": [
       "<sklearn.metrics._plot.confusion_matrix.ConfusionMatrixDisplay at 0x1cfe9b654d0>"
      ]
     },
     "execution_count": 33,
     "metadata": {},
     "output_type": "execute_result"
    },
    {
     "data": {
      "image/png": "[encoded data removed]",
      "text/plain": [
       "<Figure size 640x480 with 2 Axes>"
      ]
     },
     "metadata": {},
     "output_type": "display_data"
    }
   ],
   "source": [
    "\"\"\"\n",
    "7. Realizar las diferentes gráficas que permitan visualizar los resultados del modelo.\n",
    "\"\"\"\n",
    "#matrix de confusion\n",
    "cm=confusion_matrix(Y_test, Prediccion)\n",
    "disp=metrics.ConfusionMatrixDisplay(confusion_matrix=cm)\n",
    "disp.plot()"
   ]
  },
  {
   "cell_type": "code",
   "execution_count": 34,
   "id": "87b71c00-2629-4674-97e6-bc52149139f1",
   "metadata": {},
   "outputs": [
    {
     "data": {
      "image/png": "[encoded data removed]",
      "text/plain": [
       "<Figure size 640x480 with 1 Axes>"
      ]
     },
     "metadata": {},
     "output_type": "display_data"
    }
   ],
   "source": [
    "#curva de presicion\n",
    "from sklearn.metrics import RocCurveDisplay\n",
    "RocCurveDisplay.from_predictions(Y_test, Prediccion)\n",
    "plt.show()"
   ]
  },
  {
   "cell_type": "code",
   "execution_count": null,
   "id": "76dbad2b-05fa-4966-b3f2-35e1f96a22b3",
   "metadata": {},
   "outputs": [],
   "source": []
  }
 ],
 "metadata": {
  "kernelspec": {
   "display_name": "Python 3 (ipykernel)",
   "language": "python",
   "name": "python3"
  },
  "language_info": {
   "codemirror_mode": {
    "name": "ipython",
    "version": 3
   },
   "file_extension": ".py",
   "mimetype": "text/x-python",
   "name": "python",
   "nbconvert_exporter": "python",
   "pygments_lexer": "ipython3",
   "version": "3.11.7"
  }
 },
 "nbformat": 4,
 "nbformat_minor": 5
}
